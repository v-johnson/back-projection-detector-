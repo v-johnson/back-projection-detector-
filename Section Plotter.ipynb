{
 "cells": [
  {
   "cell_type": "code",
   "execution_count": 1,
   "metadata": {},
   "outputs": [],
   "source": [
    "import numpy as np\n",
    "import obspy\n",
    "from obspy import read\n",
    "import os\n",
    "import re\n",
    "from obspy.core.utcdatetime import UTCDateTime\n",
    "import time\n",
    "from sys import getsizeof\n",
    "import matplotlib.pyplot as plt\n",
    "import h5py\n",
    "from scipy.signal import detrend"
   ]
  },
  {
   "cell_type": "code",
   "execution_count": 2,
   "metadata": {},
   "outputs": [
    {
     "name": "stdout",
     "output_type": "stream",
     "text": [
      "[1010, 11, 12, 13, 14, 1520, 15, 16, 18, 17, 19, 2000, 20, 21, 23, 22, 2510, 24, 25, 26, 29, 28, 27, 30, 31, 32, 33, 740, 500, 1040, 1070, 1100, 1130, 1160, 1190, 1220, 1250, 1280, 1310, 1340, 1370, 1400, 1430, 1460, 1490, 1550, 1580, 1610, 1640, 1670, 1700, 1730, 1760, 1790, 1820, 1850, 1880, 1910, 1940, 1970, 2030, 2060, 2090, 2120, 2150, 2180, 2210, 2240, 2270, 2300, 2330, 2360, 2390, 2420, 2450, 2480, 2540, 2570, 2600, 2630, 2660, 2690, 2720, 2750, 530, 560, 590, 620, 650, 680, 710, 770, 800, 830, 860, 890, 920, 950, 980]\n"
     ]
    }
   ],
   "source": [
    "'''\n",
    "Creates a list of every station location name. Station location is equal to the distance from origin in meters. \n",
    "Also creates a list of traces to be used in back projection function. \n",
    "'''\n",
    "\n",
    "st = obspy.read('data-short/Time_2019-01-10T00:00:00.000000Z.mseed') # only need to use one file to get list\n",
    "st = st.select(component = 'Z') # selects only the Z component to remove duplicate values\n",
    "traces = []\n",
    "station_location_x = []\n",
    "for tr in st:\n",
    "    traces.append(tr)\n",
    "    num = int(tr.stats.station)\n",
    "    station_location_x.append(num)\n",
    "print(station_location_x)"
   ]
  },
  {
   "cell_type": "code",
   "execution_count": null,
   "metadata": {},
   "outputs": [],
   "source": [
    "'''\n",
    "Sets the distance attribute to every station as the station name in meters. \n",
    "'''\n",
    "\n",
    "start_time = time.perf_counter()\n",
    "file_list = os.listdir(\"data-short\") \n",
    "for file in file_list:\n",
    "    if file_name.endswith(\".h5\"): # might be unnecessary but still have mseed in directory so being cautious\n",
    "        st = h5py.File('data-short/' + file, 'r') \n",
    "        for tr in st:\n",
    "            tr.stats.distance = tr.stats.station\n",
    "        print('Station distances set in %f seconds'%(time.perf_counter()-start_time))"
   ]
  },
  {
   "cell_type": "code",
   "execution_count": 5,
   "metadata": {},
   "outputs": [
    {
     "name": "stdout",
     "output_type": "stream",
     "text": [
      "File number 1 of 88 has been created.\n",
      "File number 2 of 88 has been created.\n",
      "File number 3 of 88 has been created.\n",
      "File number 4 of 88 has been created.\n",
      "File number 5 of 88 has been created.\n",
      "File number 6 of 88 has been created.\n",
      "File number 7 of 88 has been created.\n",
      "File number 8 of 88 has been created.\n",
      "File number 9 of 88 has been created.\n",
      "File number 10 of 88 has been created.\n",
      "File number 11 of 88 has been created.\n",
      "File number 12 of 88 has been created.\n",
      "File number 13 of 88 has been created.\n",
      "File number 14 of 88 has been created.\n",
      "File number 15 of 88 has been created.\n",
      "File number 16 of 88 has been created.\n",
      "File number 17 of 88 has been created.\n",
      "File number 18 of 88 has been created.\n",
      "File number 19 of 88 has been created.\n",
      "File number 20 of 88 has been created.\n"
     ]
    },
    {
     "name": "stderr",
     "output_type": "stream",
     "text": [
      "<ipython-input-5-28f304322756>:15: RuntimeWarning: More than 20 figures have been opened. Figures created through the pyplot interface (`matplotlib.pyplot.figure`) are retained until explicitly closed and may consume too much memory. (To control this warning, see the rcParam `figure.max_open_warning`).\n",
      "  fig = plt.subplots(figsize = (15,10))\n"
     ]
    },
    {
     "name": "stdout",
     "output_type": "stream",
     "text": [
      "File number 21 of 88 has been created.\n",
      "File number 22 of 88 has been created.\n",
      "File number 23 of 88 has been created.\n",
      "File number 24 of 88 has been created.\n",
      "File number 25 of 88 has been created.\n",
      "File number 26 of 88 has been created.\n",
      "File number 27 of 88 has been created.\n",
      "File number 28 of 88 has been created.\n",
      "File number 29 of 88 has been created.\n",
      "File number 30 of 88 has been created.\n",
      "File number 31 of 88 has been created.\n",
      "File number 32 of 88 has been created.\n",
      "File number 33 of 88 has been created.\n",
      "File number 34 of 88 has been created.\n",
      "File number 35 of 88 has been created.\n",
      "File number 36 of 88 has been created.\n",
      "File number 37 of 88 has been created.\n",
      "File number 38 of 88 has been created.\n",
      "File number 39 of 88 has been created.\n",
      "File number 40 of 88 has been created.\n",
      "File number 41 of 88 has been created.\n",
      "File number 42 of 88 has been created.\n",
      "File number 43 of 88 has been created.\n",
      "File number 44 of 88 has been created.\n",
      "File number 45 of 88 has been created.\n",
      "File number 46 of 88 has been created.\n",
      "File number 47 of 88 has been created.\n",
      "File number 48 of 88 has been created.\n",
      "File number 49 of 88 has been created.\n",
      "File number 50 of 88 has been created.\n",
      "File number 51 of 88 has been created.\n",
      "File number 52 of 88 has been created.\n",
      "File number 53 of 88 has been created.\n",
      "File number 54 of 88 has been created.\n",
      "File number 55 of 88 has been created.\n",
      "File number 56 of 88 has been created.\n",
      "File number 57 of 88 has been created.\n",
      "File number 58 of 88 has been created.\n",
      "File number 59 of 88 has been created.\n",
      "File number 60 of 88 has been created.\n",
      "File number 61 of 88 has been created.\n",
      "File number 62 of 88 has been created.\n",
      "File number 63 of 88 has been created.\n",
      "File number 64 of 88 has been created.\n",
      "File number 65 of 88 has been created.\n",
      "File number 66 of 88 has been created.\n",
      "File number 67 of 88 has been created.\n",
      "File number 68 of 88 has been created.\n",
      "File number 69 of 88 has been created.\n",
      "File number 70 of 88 has been created.\n",
      "File number 71 of 88 has been created.\n",
      "File number 72 of 88 has been created.\n",
      "File number 73 of 88 has been created.\n",
      "File number 74 of 88 has been created.\n",
      "File number 75 of 88 has been created.\n",
      "File number 76 of 88 has been created.\n",
      "File number 77 of 88 has been created.\n",
      "File number 78 of 88 has been created.\n",
      "File number 79 of 88 has been created.\n",
      "File number 80 of 88 has been created.\n",
      "File number 81 of 88 has been created.\n",
      "File number 82 of 88 has been created.\n",
      "File number 83 of 88 has been created.\n",
      "File number 84 of 88 has been created.\n",
      "File number 85 of 88 has been created.\n",
      "File number 86 of 88 has been created.\n"
     ]
    },
    {
     "data": {
      "text/plain": [
       "<Figure size 1080x720 with 0 Axes>"
      ]
     },
     "metadata": {},
     "output_type": "display_data"
    },
    {
     "data": {
      "text/plain": [
       "<Figure size 1080x720 with 0 Axes>"
      ]
     },
     "metadata": {},
     "output_type": "display_data"
    },
    {
     "data": {
      "text/plain": [
       "<Figure size 1080x720 with 0 Axes>"
      ]
     },
     "metadata": {},
     "output_type": "display_data"
    },
    {
     "data": {
      "text/plain": [
       "<Figure size 1080x720 with 0 Axes>"
      ]
     },
     "metadata": {},
     "output_type": "display_data"
    },
    {
     "data": {
      "text/plain": [
       "<Figure size 1080x720 with 0 Axes>"
      ]
     },
     "metadata": {},
     "output_type": "display_data"
    },
    {
     "data": {
      "text/plain": [
       "<Figure size 1080x720 with 0 Axes>"
      ]
     },
     "metadata": {},
     "output_type": "display_data"
    },
    {
     "data": {
      "text/plain": [
       "<Figure size 1080x720 with 0 Axes>"
      ]
     },
     "metadata": {},
     "output_type": "display_data"
    },
    {
     "data": {
      "text/plain": [
       "<Figure size 1080x720 with 0 Axes>"
      ]
     },
     "metadata": {},
     "output_type": "display_data"
    },
    {
     "data": {
      "text/plain": [
       "<Figure size 1080x720 with 0 Axes>"
      ]
     },
     "metadata": {},
     "output_type": "display_data"
    },
    {
     "data": {
      "text/plain": [
       "<Figure size 1080x720 with 0 Axes>"
      ]
     },
     "metadata": {},
     "output_type": "display_data"
    },
    {
     "data": {
      "text/plain": [
       "<Figure size 1080x720 with 0 Axes>"
      ]
     },
     "metadata": {},
     "output_type": "display_data"
    },
    {
     "data": {
      "text/plain": [
       "<Figure size 1080x720 with 0 Axes>"
      ]
     },
     "metadata": {},
     "output_type": "display_data"
    },
    {
     "data": {
      "text/plain": [
       "<Figure size 1080x720 with 0 Axes>"
      ]
     },
     "metadata": {},
     "output_type": "display_data"
    },
    {
     "data": {
      "text/plain": [
       "<Figure size 1080x720 with 0 Axes>"
      ]
     },
     "metadata": {},
     "output_type": "display_data"
    },
    {
     "data": {
      "text/plain": [
       "<Figure size 1080x720 with 0 Axes>"
      ]
     },
     "metadata": {},
     "output_type": "display_data"
    },
    {
     "data": {
      "text/plain": [
       "<Figure size 1080x720 with 0 Axes>"
      ]
     },
     "metadata": {},
     "output_type": "display_data"
    },
    {
     "data": {
      "text/plain": [
       "<Figure size 1080x720 with 0 Axes>"
      ]
     },
     "metadata": {},
     "output_type": "display_data"
    },
    {
     "data": {
      "text/plain": [
       "<Figure size 1080x720 with 0 Axes>"
      ]
     },
     "metadata": {},
     "output_type": "display_data"
    },
    {
     "data": {
      "text/plain": [
       "<Figure size 1080x720 with 0 Axes>"
      ]
     },
     "metadata": {},
     "output_type": "display_data"
    },
    {
     "data": {
      "text/plain": [
       "<Figure size 1080x720 with 0 Axes>"
      ]
     },
     "metadata": {},
     "output_type": "display_data"
    },
    {
     "data": {
      "text/plain": [
       "<Figure size 1080x720 with 0 Axes>"
      ]
     },
     "metadata": {},
     "output_type": "display_data"
    },
    {
     "data": {
      "text/plain": [
       "<Figure size 1080x720 with 0 Axes>"
      ]
     },
     "metadata": {},
     "output_type": "display_data"
    },
    {
     "data": {
      "text/plain": [
       "<Figure size 1080x720 with 0 Axes>"
      ]
     },
     "metadata": {},
     "output_type": "display_data"
    },
    {
     "data": {
      "text/plain": [
       "<Figure size 1080x720 with 0 Axes>"
      ]
     },
     "metadata": {},
     "output_type": "display_data"
    },
    {
     "data": {
      "text/plain": [
       "<Figure size 1080x720 with 0 Axes>"
      ]
     },
     "metadata": {},
     "output_type": "display_data"
    },
    {
     "data": {
      "text/plain": [
       "<Figure size 1080x720 with 0 Axes>"
      ]
     },
     "metadata": {},
     "output_type": "display_data"
    },
    {
     "data": {
      "text/plain": [
       "<Figure size 1080x720 with 0 Axes>"
      ]
     },
     "metadata": {},
     "output_type": "display_data"
    },
    {
     "data": {
      "text/plain": [
       "<Figure size 1080x720 with 0 Axes>"
      ]
     },
     "metadata": {},
     "output_type": "display_data"
    },
    {
     "data": {
      "text/plain": [
       "<Figure size 1080x720 with 0 Axes>"
      ]
     },
     "metadata": {},
     "output_type": "display_data"
    },
    {
     "data": {
      "text/plain": [
       "<Figure size 1080x720 with 0 Axes>"
      ]
     },
     "metadata": {},
     "output_type": "display_data"
    },
    {
     "data": {
      "text/plain": [
       "<Figure size 1080x720 with 0 Axes>"
      ]
     },
     "metadata": {},
     "output_type": "display_data"
    },
    {
     "data": {
      "text/plain": [
       "<Figure size 1080x720 with 0 Axes>"
      ]
     },
     "metadata": {},
     "output_type": "display_data"
    },
    {
     "data": {
      "text/plain": [
       "<Figure size 1080x720 with 0 Axes>"
      ]
     },
     "metadata": {},
     "output_type": "display_data"
    },
    {
     "data": {
      "text/plain": [
       "<Figure size 1080x720 with 0 Axes>"
      ]
     },
     "metadata": {},
     "output_type": "display_data"
    },
    {
     "data": {
      "text/plain": [
       "<Figure size 1080x720 with 0 Axes>"
      ]
     },
     "metadata": {},
     "output_type": "display_data"
    },
    {
     "data": {
      "text/plain": [
       "<Figure size 1080x720 with 0 Axes>"
      ]
     },
     "metadata": {},
     "output_type": "display_data"
    },
    {
     "data": {
      "text/plain": [
       "<Figure size 1080x720 with 0 Axes>"
      ]
     },
     "metadata": {},
     "output_type": "display_data"
    },
    {
     "data": {
      "text/plain": [
       "<Figure size 1080x720 with 0 Axes>"
      ]
     },
     "metadata": {},
     "output_type": "display_data"
    },
    {
     "data": {
      "text/plain": [
       "<Figure size 1080x720 with 0 Axes>"
      ]
     },
     "metadata": {},
     "output_type": "display_data"
    },
    {
     "data": {
      "text/plain": [
       "<Figure size 1080x720 with 0 Axes>"
      ]
     },
     "metadata": {},
     "output_type": "display_data"
    },
    {
     "data": {
      "text/plain": [
       "<Figure size 1080x720 with 0 Axes>"
      ]
     },
     "metadata": {},
     "output_type": "display_data"
    },
    {
     "data": {
      "text/plain": [
       "<Figure size 1080x720 with 0 Axes>"
      ]
     },
     "metadata": {},
     "output_type": "display_data"
    },
    {
     "data": {
      "text/plain": [
       "<Figure size 1080x720 with 0 Axes>"
      ]
     },
     "metadata": {},
     "output_type": "display_data"
    },
    {
     "data": {
      "text/plain": [
       "<Figure size 1080x720 with 0 Axes>"
      ]
     },
     "metadata": {},
     "output_type": "display_data"
    },
    {
     "data": {
      "text/plain": [
       "<Figure size 1080x720 with 0 Axes>"
      ]
     },
     "metadata": {},
     "output_type": "display_data"
    },
    {
     "data": {
      "text/plain": [
       "<Figure size 1080x720 with 0 Axes>"
      ]
     },
     "metadata": {},
     "output_type": "display_data"
    },
    {
     "data": {
      "text/plain": [
       "<Figure size 1080x720 with 0 Axes>"
      ]
     },
     "metadata": {},
     "output_type": "display_data"
    },
    {
     "data": {
      "text/plain": [
       "<Figure size 1080x720 with 0 Axes>"
      ]
     },
     "metadata": {},
     "output_type": "display_data"
    },
    {
     "data": {
      "text/plain": [
       "<Figure size 1080x720 with 0 Axes>"
      ]
     },
     "metadata": {},
     "output_type": "display_data"
    },
    {
     "data": {
      "text/plain": [
       "<Figure size 1080x720 with 0 Axes>"
      ]
     },
     "metadata": {},
     "output_type": "display_data"
    },
    {
     "data": {
      "text/plain": [
       "<Figure size 1080x720 with 0 Axes>"
      ]
     },
     "metadata": {},
     "output_type": "display_data"
    },
    {
     "data": {
      "text/plain": [
       "<Figure size 1080x720 with 0 Axes>"
      ]
     },
     "metadata": {},
     "output_type": "display_data"
    },
    {
     "data": {
      "text/plain": [
       "<Figure size 1080x720 with 0 Axes>"
      ]
     },
     "metadata": {},
     "output_type": "display_data"
    },
    {
     "data": {
      "text/plain": [
       "<Figure size 1080x720 with 0 Axes>"
      ]
     },
     "metadata": {},
     "output_type": "display_data"
    },
    {
     "data": {
      "text/plain": [
       "<Figure size 1080x720 with 0 Axes>"
      ]
     },
     "metadata": {},
     "output_type": "display_data"
    },
    {
     "data": {
      "text/plain": [
       "<Figure size 1080x720 with 0 Axes>"
      ]
     },
     "metadata": {},
     "output_type": "display_data"
    },
    {
     "data": {
      "text/plain": [
       "<Figure size 1080x720 with 0 Axes>"
      ]
     },
     "metadata": {},
     "output_type": "display_data"
    },
    {
     "data": {
      "text/plain": [
       "<Figure size 1080x720 with 0 Axes>"
      ]
     },
     "metadata": {},
     "output_type": "display_data"
    },
    {
     "data": {
      "text/plain": [
       "<Figure size 1080x720 with 0 Axes>"
      ]
     },
     "metadata": {},
     "output_type": "display_data"
    },
    {
     "data": {
      "text/plain": [
       "<Figure size 1080x720 with 0 Axes>"
      ]
     },
     "metadata": {},
     "output_type": "display_data"
    },
    {
     "data": {
      "text/plain": [
       "<Figure size 1080x720 with 0 Axes>"
      ]
     },
     "metadata": {},
     "output_type": "display_data"
    },
    {
     "data": {
      "text/plain": [
       "<Figure size 1080x720 with 0 Axes>"
      ]
     },
     "metadata": {},
     "output_type": "display_data"
    },
    {
     "data": {
      "text/plain": [
       "<Figure size 1080x720 with 0 Axes>"
      ]
     },
     "metadata": {},
     "output_type": "display_data"
    },
    {
     "data": {
      "text/plain": [
       "<Figure size 1080x720 with 0 Axes>"
      ]
     },
     "metadata": {},
     "output_type": "display_data"
    },
    {
     "data": {
      "text/plain": [
       "<Figure size 1080x720 with 0 Axes>"
      ]
     },
     "metadata": {},
     "output_type": "display_data"
    },
    {
     "data": {
      "text/plain": [
       "<Figure size 1080x720 with 0 Axes>"
      ]
     },
     "metadata": {},
     "output_type": "display_data"
    },
    {
     "data": {
      "text/plain": [
       "<Figure size 1080x720 with 0 Axes>"
      ]
     },
     "metadata": {},
     "output_type": "display_data"
    },
    {
     "data": {
      "text/plain": [
       "<Figure size 1080x720 with 0 Axes>"
      ]
     },
     "metadata": {},
     "output_type": "display_data"
    },
    {
     "data": {
      "text/plain": [
       "<Figure size 1080x720 with 0 Axes>"
      ]
     },
     "metadata": {},
     "output_type": "display_data"
    },
    {
     "data": {
      "text/plain": [
       "<Figure size 1080x720 with 0 Axes>"
      ]
     },
     "metadata": {},
     "output_type": "display_data"
    },
    {
     "data": {
      "text/plain": [
       "<Figure size 1080x720 with 0 Axes>"
      ]
     },
     "metadata": {},
     "output_type": "display_data"
    },
    {
     "data": {
      "text/plain": [
       "<Figure size 1080x720 with 0 Axes>"
      ]
     },
     "metadata": {},
     "output_type": "display_data"
    },
    {
     "data": {
      "text/plain": [
       "<Figure size 1080x720 with 0 Axes>"
      ]
     },
     "metadata": {},
     "output_type": "display_data"
    },
    {
     "data": {
      "text/plain": [
       "<Figure size 1080x720 with 0 Axes>"
      ]
     },
     "metadata": {},
     "output_type": "display_data"
    },
    {
     "data": {
      "text/plain": [
       "<Figure size 1080x720 with 0 Axes>"
      ]
     },
     "metadata": {},
     "output_type": "display_data"
    },
    {
     "data": {
      "text/plain": [
       "<Figure size 1080x720 with 0 Axes>"
      ]
     },
     "metadata": {},
     "output_type": "display_data"
    },
    {
     "data": {
      "text/plain": [
       "<Figure size 1080x720 with 0 Axes>"
      ]
     },
     "metadata": {},
     "output_type": "display_data"
    },
    {
     "data": {
      "text/plain": [
       "<Figure size 1080x720 with 0 Axes>"
      ]
     },
     "metadata": {},
     "output_type": "display_data"
    },
    {
     "data": {
      "text/plain": [
       "<Figure size 1080x720 with 0 Axes>"
      ]
     },
     "metadata": {},
     "output_type": "display_data"
    },
    {
     "data": {
      "text/plain": [
       "<Figure size 1080x720 with 0 Axes>"
      ]
     },
     "metadata": {},
     "output_type": "display_data"
    },
    {
     "data": {
      "text/plain": [
       "<Figure size 1080x720 with 0 Axes>"
      ]
     },
     "metadata": {},
     "output_type": "display_data"
    },
    {
     "data": {
      "text/plain": [
       "<Figure size 1080x720 with 0 Axes>"
      ]
     },
     "metadata": {},
     "output_type": "display_data"
    },
    {
     "data": {
      "text/plain": [
       "<Figure size 1080x720 with 0 Axes>"
      ]
     },
     "metadata": {},
     "output_type": "display_data"
    },
    {
     "data": {
      "text/plain": [
       "<Figure size 1080x720 with 0 Axes>"
      ]
     },
     "metadata": {},
     "output_type": "display_data"
    },
    {
     "data": {
      "text/plain": [
       "<Figure size 1080x720 with 0 Axes>"
      ]
     },
     "metadata": {},
     "output_type": "display_data"
    },
    {
     "data": {
      "text/plain": [
       "<Figure size 1080x720 with 0 Axes>"
      ]
     },
     "metadata": {},
     "output_type": "display_data"
    }
   ],
   "source": [
    "'''\n",
    "Reads information from data-short directory, detrends data and\n",
    "creates a section plot for every 1000s file and saves it to the Section-Plots folder. \n",
    "'''\n",
    "\n",
    "num_of_fig = 0\n",
    "#st =  h5py.File('data-short/Time_2019-01-10T00:00:00.000000Z.h5', 'r') \n",
    "num_of_fig = 0\n",
    "file_list = os.listdir(\"data-short\") \n",
    "\n",
    "for file in file_list:\n",
    "    if file.endswith(\".h5\"): # might be unnecessary but still have mseed in directory so being cautious\n",
    "        st = h5py.File('data-short/' + file, 'r') \n",
    "\n",
    "        data = np.array(st['Vertical Component Seismogram'])\n",
    "        data_detrended = detrend(data)\n",
    "\n",
    "        # sets the conditions for the plot\n",
    "        fig = plt.subplots(figsize = (15,10))\n",
    "        scale = 20\n",
    "        offset = 0\n",
    "        t = np.linspace(0,1000,1000000-1)\n",
    "        mx = np.max(np.abs(data_detrended))\n",
    "        for tr in data_detrended:\n",
    "            plt.plot(scale*tr/mx + station_location_x[offset],t, \"-k\")\n",
    "            offset += 1\n",
    "        plt.xlim((500,2800))\n",
    "        \n",
    "        #plt.show()\n",
    "        num_of_fig += 1\n",
    "        file_name =  re.search('(.+?).h5', file).group(1)\n",
    "        plt.savefig('Section-Plots/' + file_name + '.png')\n",
    "        print('File number %d has been created.' %(num_of_fig)) # 86 total files per day\n",
    "        plt.clf()"
   ]
  },
  {
   "cell_type": "code",
   "execution_count": null,
   "metadata": {},
   "outputs": [],
   "source": []
  }
 ],
 "metadata": {
  "kernelspec": {
   "display_name": "Python 3",
   "language": "python",
   "name": "python3"
  },
  "language_info": {
   "codemirror_mode": {
    "name": "ipython",
    "version": 3
   },
   "file_extension": ".py",
   "mimetype": "text/x-python",
   "name": "python",
   "nbconvert_exporter": "python",
   "pygments_lexer": "ipython3",
   "version": "3.8.5"
  }
 },
 "nbformat": 4,
 "nbformat_minor": 4
}
